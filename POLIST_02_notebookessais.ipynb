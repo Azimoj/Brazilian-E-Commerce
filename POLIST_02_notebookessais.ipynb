{
  "nbformat": 4,
  "nbformat_minor": 0,
  "metadata": {
    "colab": {
      "name": "POLIST_02_notebookessais.ipynb",
      "provenance": [],
      "authorship_tag": "ABX9TyMohFOisULWzKZ7CnjVnh0V",
      "include_colab_link": true
    },
    "kernelspec": {
      "name": "python3",
      "display_name": "Python 3"
    },
    "language_info": {
      "name": "python"
    }
  },
  "cells": [
    {
      "cell_type": "markdown",
      "metadata": {
        "id": "view-in-github",
        "colab_type": "text"
      },
      "source": [
        "<a href=\"https://colab.research.google.com/github/Azimoj/Customer-Segmentation/blob/main/POLIST_02_notebookessais.ipynb\" target=\"_parent\"><img src=\"https://colab.research.google.com/assets/colab-badge.svg\" alt=\"Open In Colab\"/></a>"
      ]
    },
    {
      "cell_type": "code",
      "metadata": {
        "colab": {
          "base_uri": "https://localhost:8080/"
        },
        "id": "HLxezzV4gML0",
        "outputId": "e594d9b4-8dce-44d3-d609-bc78cc4b995d"
      },
      "source": [
        "import pandas as pd\n",
        "%pylab inline\n",
        "import seaborn as sns\n",
        "import warnings\n",
        "warnings.filterwarnings('ignore')"
      ],
      "execution_count": 4,
      "outputs": [
        {
          "output_type": "stream",
          "name": "stdout",
          "text": [
            "Populating the interactive namespace from numpy and matplotlib\n"
          ]
        }
      ]
    },
    {
      "cell_type": "code",
      "metadata": {
        "colab": {
          "base_uri": "https://localhost:8080/"
        },
        "id": "3FDmhDki7sZl",
        "outputId": "5693430e-d73c-47e1-d01f-4524a2702044"
      },
      "source": [
        "from google.colab import drive\n",
        "drive.mount('/content/drive')"
      ],
      "execution_count": 5,
      "outputs": [
        {
          "output_type": "stream",
          "name": "stdout",
          "text": [
            "Mounted at /content/drive\n"
          ]
        }
      ]
    },
    {
      "cell_type": "code",
      "metadata": {
        "id": "PyJ__bh4-oEs"
      },
      "source": [
        ""
      ],
      "execution_count": 69,
      "outputs": []
    },
    {
      "cell_type": "code",
      "metadata": {
        "colab": {
          "base_uri": "https://localhost:8080/"
        },
        "id": "t5B3PPqqgqDO",
        "outputId": "197fc02d-cb7b-46b7-b64e-0192f323e85c"
      },
      "source": [
        "%cd /content/drive/My\\Drive/p5\n",
        "!ls\n",
        "\n",
        "df = pd.read_csv(\n",
        "    '/content/drive/MyDrive/p5/data_feature_eng.csv')"
      ],
      "execution_count": 6,
      "outputs": [
        {
          "output_type": "stream",
          "name": "stdout",
          "text": [
            "/content/drive/MyDrive/p5\n",
            "data_feature_eng.csv\t\t  olist_sellers_dataset.csv\n",
            "olist_order_payments_dataset.csv  p5\n",
            "olist_order_reviews_dataset.csv   POLIST_02_notebookessais.ipynb\n",
            "olist_orders_dataset.csv\t  product_category_name_translation.csv\n",
            "olist_products_dataset.csv\n"
          ]
        }
      ]
    },
    {
      "cell_type": "code",
      "metadata": {
        "id": "K7BZ2XRGDmc9",
        "colab": {
          "base_uri": "https://localhost:8080/",
          "height": 274
        },
        "outputId": "5751ed39-1ce1-42bb-bc00-aaeac57f39c3"
      },
      "source": [
        "pd.set_option('display.max_columns', None)\n",
        "df.head()"
      ],
      "execution_count": 7,
      "outputs": [
        {
          "output_type": "execute_result",
          "data": {
            "text/html": [
              "<div>\n",
              "<style scoped>\n",
              "    .dataframe tbody tr th:only-of-type {\n",
              "        vertical-align: middle;\n",
              "    }\n",
              "\n",
              "    .dataframe tbody tr th {\n",
              "        vertical-align: top;\n",
              "    }\n",
              "\n",
              "    .dataframe thead th {\n",
              "        text-align: right;\n",
              "    }\n",
              "</style>\n",
              "<table border=\"1\" class=\"dataframe\">\n",
              "  <thead>\n",
              "    <tr style=\"text-align: right;\">\n",
              "      <th></th>\n",
              "      <th>order_id</th>\n",
              "      <th>payment_sequential</th>\n",
              "      <th>payment_type</th>\n",
              "      <th>payment_installments</th>\n",
              "      <th>payment_value</th>\n",
              "      <th>customer_id</th>\n",
              "      <th>order_status</th>\n",
              "      <th>order_purchase_timestamp</th>\n",
              "      <th>order_approved_at</th>\n",
              "      <th>order_delivered_carrier_date</th>\n",
              "      <th>order_delivered_customer_date</th>\n",
              "      <th>order_estimated_delivery_date</th>\n",
              "      <th>review_id</th>\n",
              "      <th>review_score</th>\n",
              "      <th>review_comment_title</th>\n",
              "      <th>review_comment_message</th>\n",
              "      <th>review_creation_date</th>\n",
              "      <th>review_answer_timestamp</th>\n",
              "      <th>customer_unique_id</th>\n",
              "      <th>zip_code_prefix_customer</th>\n",
              "      <th>customer_city</th>\n",
              "      <th>customer_state</th>\n",
              "      <th>geolocation_lat_customer</th>\n",
              "      <th>geolocation_lng_customer</th>\n",
              "      <th>geolocation_city_customer</th>\n",
              "      <th>geolocation_state_customer</th>\n",
              "      <th>product_id</th>\n",
              "      <th>product_name_lenght</th>\n",
              "      <th>product_description_lenght</th>\n",
              "      <th>product_photos_qty</th>\n",
              "      <th>product_weight_g</th>\n",
              "      <th>product_length_cm</th>\n",
              "      <th>product_height_cm</th>\n",
              "      <th>product_width_cm</th>\n",
              "      <th>order_item_id</th>\n",
              "      <th>seller_id</th>\n",
              "      <th>shipping_limit_date</th>\n",
              "      <th>price</th>\n",
              "      <th>freight_value</th>\n",
              "      <th>zip_code_prefix_seller</th>\n",
              "      <th>seller_city</th>\n",
              "      <th>seller_state</th>\n",
              "      <th>geolocation_lat_seller</th>\n",
              "      <th>geolocation_lng_seller</th>\n",
              "      <th>geolocation_city_seller</th>\n",
              "      <th>geolocation_state_seller</th>\n",
              "      <th>product_category_name</th>\n",
              "      <th>order_purchase_year</th>\n",
              "      <th>order_purchase_month</th>\n",
              "      <th>order_purchase_month_name</th>\n",
              "      <th>order_purchase_year_month</th>\n",
              "      <th>order_purchase_date</th>\n",
              "      <th>order_purchase_day</th>\n",
              "      <th>order_purchase_dayofweek</th>\n",
              "      <th>order_purchase_dayofweek_name</th>\n",
              "      <th>order_purchase_hour</th>\n",
              "      <th>order_purchase_time_day</th>\n",
              "    </tr>\n",
              "  </thead>\n",
              "  <tbody>\n",
              "    <tr>\n",
              "      <th>0</th>\n",
              "      <td>b81ef226f3fe1789b1e8b2acac839d17</td>\n",
              "      <td>1</td>\n",
              "      <td>credit_card</td>\n",
              "      <td>8</td>\n",
              "      <td>99.33</td>\n",
              "      <td>0a8556ac6be836b46b3e89920d59291c</td>\n",
              "      <td>delivered</td>\n",
              "      <td>2018-04-25 22:01:49</td>\n",
              "      <td>2018-04-25 22:15:09</td>\n",
              "      <td>2018-05-02 15:20:00</td>\n",
              "      <td>2018-05-09 17:36:51</td>\n",
              "      <td>2018-05-22 00:00:00</td>\n",
              "      <td>4ce650e117a5b292bf5ea980a61eb61e</td>\n",
              "      <td>1</td>\n",
              "      <td>Não recomendo</td>\n",
              "      <td>Produto com qualidade ruim, amassado e descasc...</td>\n",
              "      <td>2018-05-10 00:00:00</td>\n",
              "      <td>2018-05-15 23:38:00</td>\n",
              "      <td>708ab75d2a007f0564aedd11139c7708</td>\n",
              "      <td>39801</td>\n",
              "      <td>teofilo otoni</td>\n",
              "      <td>MG</td>\n",
              "      <td>-17.851690</td>\n",
              "      <td>-41.493610</td>\n",
              "      <td>teofilo otoni</td>\n",
              "      <td>MG</td>\n",
              "      <td>af74cc53dcffc8384b29e7abfa41902b</td>\n",
              "      <td>57.0</td>\n",
              "      <td>921.0</td>\n",
              "      <td>8.0</td>\n",
              "      <td>800.0</td>\n",
              "      <td>17.0</td>\n",
              "      <td>27.0</td>\n",
              "      <td>17.0</td>\n",
              "      <td>1</td>\n",
              "      <td>213b25e6f54661939f11710a6fddb871</td>\n",
              "      <td>2018-05-02 22:15:09</td>\n",
              "      <td>79.80</td>\n",
              "      <td>19.53</td>\n",
              "      <td>13321</td>\n",
              "      <td>salto</td>\n",
              "      <td>SP</td>\n",
              "      <td>-23.190244</td>\n",
              "      <td>-47.291571</td>\n",
              "      <td>salto</td>\n",
              "      <td>SP</td>\n",
              "      <td>home_construction</td>\n",
              "      <td>2018</td>\n",
              "      <td>4</td>\n",
              "      <td>Apr</td>\n",
              "      <td>201804</td>\n",
              "      <td>20180425</td>\n",
              "      <td>25</td>\n",
              "      <td>2</td>\n",
              "      <td>Wed</td>\n",
              "      <td>22</td>\n",
              "      <td>Night</td>\n",
              "    </tr>\n",
              "    <tr>\n",
              "      <th>1</th>\n",
              "      <td>b545ba7b0bd67a3128185c7214704319</td>\n",
              "      <td>1</td>\n",
              "      <td>credit_card</td>\n",
              "      <td>8</td>\n",
              "      <td>340.08</td>\n",
              "      <td>7e2ca73af071679902a9ba14d7c3cee8</td>\n",
              "      <td>delivered</td>\n",
              "      <td>2018-06-11 14:59:24</td>\n",
              "      <td>2018-06-11 16:31:42</td>\n",
              "      <td>2018-06-12 14:15:00</td>\n",
              "      <td>2018-06-18 16:41:04</td>\n",
              "      <td>2018-07-04 00:00:00</td>\n",
              "      <td>5f65ad4b5147b940da2da6802f18bbf7</td>\n",
              "      <td>4</td>\n",
              "      <td>NaN</td>\n",
              "      <td>NaN</td>\n",
              "      <td>2018-06-19 00:00:00</td>\n",
              "      <td>2018-06-19 20:20:45</td>\n",
              "      <td>55020cb68ae358a51969695657a54e9c</td>\n",
              "      <td>15520</td>\n",
              "      <td>valentim gentil</td>\n",
              "      <td>SP</td>\n",
              "      <td>-20.421158</td>\n",
              "      <td>-50.086044</td>\n",
              "      <td>valentim gentil</td>\n",
              "      <td>SP</td>\n",
              "      <td>2233b59e8cf2817f9659e52cce3093de</td>\n",
              "      <td>58.0</td>\n",
              "      <td>1624.0</td>\n",
              "      <td>3.0</td>\n",
              "      <td>9350.0</td>\n",
              "      <td>20.0</td>\n",
              "      <td>20.0</td>\n",
              "      <td>20.0</td>\n",
              "      <td>1</td>\n",
              "      <td>e3d3b3efac954a60d61be70b7e05b49b</td>\n",
              "      <td>2018-06-15 15:20:20</td>\n",
              "      <td>316.05</td>\n",
              "      <td>24.03</td>\n",
              "      <td>3370</td>\n",
              "      <td>sao paulo</td>\n",
              "      <td>SP</td>\n",
              "      <td>-23.567995</td>\n",
              "      <td>-46.557625</td>\n",
              "      <td>sao paulo</td>\n",
              "      <td>SP</td>\n",
              "      <td>home_construction</td>\n",
              "      <td>2018</td>\n",
              "      <td>6</td>\n",
              "      <td>Jun</td>\n",
              "      <td>201806</td>\n",
              "      <td>20180611</td>\n",
              "      <td>11</td>\n",
              "      <td>0</td>\n",
              "      <td>Mon</td>\n",
              "      <td>14</td>\n",
              "      <td>Afternoon</td>\n",
              "    </tr>\n",
              "    <tr>\n",
              "      <th>2</th>\n",
              "      <td>6a26bd1a037993f1205073dbeda67db4</td>\n",
              "      <td>1</td>\n",
              "      <td>credit_card</td>\n",
              "      <td>2</td>\n",
              "      <td>67.12</td>\n",
              "      <td>2a44b3dbad360783fd663c15c3e6367c</td>\n",
              "      <td>delivered</td>\n",
              "      <td>2018-02-15 13:53:42</td>\n",
              "      <td>2018-02-15 14:10:28</td>\n",
              "      <td>2018-02-16 22:38:59</td>\n",
              "      <td>2018-03-02 22:29:04</td>\n",
              "      <td>2018-03-08 00:00:00</td>\n",
              "      <td>fad89f16742c04dcdfec38fd6c115561</td>\n",
              "      <td>4</td>\n",
              "      <td>NaN</td>\n",
              "      <td>Otimo produto recebir no prazo certo,recomento</td>\n",
              "      <td>2018-03-03 00:00:00</td>\n",
              "      <td>2018-03-04 20:25:59</td>\n",
              "      <td>aca152a8bcfa7d7059b7787c67d60d52</td>\n",
              "      <td>13295</td>\n",
              "      <td>itupeva</td>\n",
              "      <td>SP</td>\n",
              "      <td>-23.159152</td>\n",
              "      <td>-47.058208</td>\n",
              "      <td>itupeva</td>\n",
              "      <td>SP</td>\n",
              "      <td>679a3e5e1d2bb68982be5734c6e55e63</td>\n",
              "      <td>57.0</td>\n",
              "      <td>565.0</td>\n",
              "      <td>4.0</td>\n",
              "      <td>800.0</td>\n",
              "      <td>38.0</td>\n",
              "      <td>38.0</td>\n",
              "      <td>22.0</td>\n",
              "      <td>1</td>\n",
              "      <td>8a130737016f838139d31878787a39c9</td>\n",
              "      <td>2018-02-21 13:10:28</td>\n",
              "      <td>54.40</td>\n",
              "      <td>12.72</td>\n",
              "      <td>3187</td>\n",
              "      <td>sao paulo</td>\n",
              "      <td>SP</td>\n",
              "      <td>-23.566231</td>\n",
              "      <td>-46.580203</td>\n",
              "      <td>sao paulo</td>\n",
              "      <td>SP</td>\n",
              "      <td>home_construction</td>\n",
              "      <td>2018</td>\n",
              "      <td>2</td>\n",
              "      <td>Feb</td>\n",
              "      <td>201802</td>\n",
              "      <td>20180215</td>\n",
              "      <td>15</td>\n",
              "      <td>3</td>\n",
              "      <td>Thu</td>\n",
              "      <td>13</td>\n",
              "      <td>Afternoon</td>\n",
              "    </tr>\n",
              "    <tr>\n",
              "      <th>3</th>\n",
              "      <td>1fce50c1831b6809773e5020edc716e2</td>\n",
              "      <td>1</td>\n",
              "      <td>credit_card</td>\n",
              "      <td>2</td>\n",
              "      <td>36.16</td>\n",
              "      <td>1ddcc619647ca008fdc24f8302c8573f</td>\n",
              "      <td>delivered</td>\n",
              "      <td>2018-07-24 20:08:54</td>\n",
              "      <td>2018-07-25 20:05:09</td>\n",
              "      <td>2018-07-26 16:04:00</td>\n",
              "      <td>2018-07-30 17:20:59</td>\n",
              "      <td>2018-08-07 00:00:00</td>\n",
              "      <td>bc0fa803dc47267d440652c24692784d</td>\n",
              "      <td>3</td>\n",
              "      <td>NaN</td>\n",
              "      <td>NaN</td>\n",
              "      <td>2018-07-31 00:00:00</td>\n",
              "      <td>2018-08-01 09:12:07</td>\n",
              "      <td>9aa679326b151fc564c2a238f361aa7d</td>\n",
              "      <td>5678</td>\n",
              "      <td>sao paulo</td>\n",
              "      <td>SP</td>\n",
              "      <td>-23.597505</td>\n",
              "      <td>-46.704756</td>\n",
              "      <td>sao paulo</td>\n",
              "      <td>SP</td>\n",
              "      <td>cce794ab6b84d0345332bb1910f9eb20</td>\n",
              "      <td>60.0</td>\n",
              "      <td>843.0</td>\n",
              "      <td>1.0</td>\n",
              "      <td>275.0</td>\n",
              "      <td>20.0</td>\n",
              "      <td>11.0</td>\n",
              "      <td>19.0</td>\n",
              "      <td>1</td>\n",
              "      <td>165b1235e9e9942cb5fae67103576fb0</td>\n",
              "      <td>2018-07-31 20:05:09</td>\n",
              "      <td>21.70</td>\n",
              "      <td>14.46</td>\n",
              "      <td>14020</td>\n",
              "      <td>ribeirao preto</td>\n",
              "      <td>SP</td>\n",
              "      <td>-21.210105</td>\n",
              "      <td>-47.801390</td>\n",
              "      <td>ribeirao preto</td>\n",
              "      <td>SP</td>\n",
              "      <td>home_construction</td>\n",
              "      <td>2018</td>\n",
              "      <td>7</td>\n",
              "      <td>Jul</td>\n",
              "      <td>201807</td>\n",
              "      <td>20180724</td>\n",
              "      <td>24</td>\n",
              "      <td>1</td>\n",
              "      <td>Tue</td>\n",
              "      <td>20</td>\n",
              "      <td>Night</td>\n",
              "    </tr>\n",
              "    <tr>\n",
              "      <th>4</th>\n",
              "      <td>107f069fdb62a9cbe252b043323e4e32</td>\n",
              "      <td>1</td>\n",
              "      <td>credit_card</td>\n",
              "      <td>2</td>\n",
              "      <td>175.13</td>\n",
              "      <td>ef0ce737cbf4c0d6aefb7c7281b658e3</td>\n",
              "      <td>delivered</td>\n",
              "      <td>2018-05-18 08:24:28</td>\n",
              "      <td>2018-05-18 08:55:36</td>\n",
              "      <td>2018-05-24 09:45:00</td>\n",
              "      <td>2018-06-12 18:18:45</td>\n",
              "      <td>2018-06-07 00:00:00</td>\n",
              "      <td>4d18eb591789b7687cf69ad6d6d4485c</td>\n",
              "      <td>5</td>\n",
              "      <td>Não recebi</td>\n",
              "      <td>Não recebi</td>\n",
              "      <td>2018-06-09 00:00:00</td>\n",
              "      <td>2018-06-10 06:55:36</td>\n",
              "      <td>2acd1014f0a4e286b0896f30b67c1e80</td>\n",
              "      <td>79010</td>\n",
              "      <td>campo grande</td>\n",
              "      <td>MS</td>\n",
              "      <td>-20.442482</td>\n",
              "      <td>-54.607675</td>\n",
              "      <td>campo grande</td>\n",
              "      <td>MS</td>\n",
              "      <td>81bc8fd12691dc4b290dc8c668532e1e</td>\n",
              "      <td>55.0</td>\n",
              "      <td>1500.0</td>\n",
              "      <td>1.0</td>\n",
              "      <td>1250.0</td>\n",
              "      <td>25.0</td>\n",
              "      <td>43.0</td>\n",
              "      <td>17.0</td>\n",
              "      <td>1</td>\n",
              "      <td>76d5af76d0271110f9af36c92573f765</td>\n",
              "      <td>2018-05-23 08:55:36</td>\n",
              "      <td>156.45</td>\n",
              "      <td>18.68</td>\n",
              "      <td>3194</td>\n",
              "      <td>sao paulo</td>\n",
              "      <td>SP</td>\n",
              "      <td>-23.567890</td>\n",
              "      <td>-46.573948</td>\n",
              "      <td>são paulo</td>\n",
              "      <td>SP</td>\n",
              "      <td>home_construction</td>\n",
              "      <td>2018</td>\n",
              "      <td>5</td>\n",
              "      <td>May</td>\n",
              "      <td>201805</td>\n",
              "      <td>20180518</td>\n",
              "      <td>18</td>\n",
              "      <td>4</td>\n",
              "      <td>Fri</td>\n",
              "      <td>8</td>\n",
              "      <td>Morning</td>\n",
              "    </tr>\n",
              "  </tbody>\n",
              "</table>\n",
              "</div>"
            ],
            "text/plain": [
              "                           order_id  payment_sequential payment_type  \\\n",
              "0  b81ef226f3fe1789b1e8b2acac839d17                   1  credit_card   \n",
              "1  b545ba7b0bd67a3128185c7214704319                   1  credit_card   \n",
              "2  6a26bd1a037993f1205073dbeda67db4                   1  credit_card   \n",
              "3  1fce50c1831b6809773e5020edc716e2                   1  credit_card   \n",
              "4  107f069fdb62a9cbe252b043323e4e32                   1  credit_card   \n",
              "\n",
              "   payment_installments  payment_value                       customer_id  \\\n",
              "0                     8          99.33  0a8556ac6be836b46b3e89920d59291c   \n",
              "1                     8         340.08  7e2ca73af071679902a9ba14d7c3cee8   \n",
              "2                     2          67.12  2a44b3dbad360783fd663c15c3e6367c   \n",
              "3                     2          36.16  1ddcc619647ca008fdc24f8302c8573f   \n",
              "4                     2         175.13  ef0ce737cbf4c0d6aefb7c7281b658e3   \n",
              "\n",
              "  order_status order_purchase_timestamp    order_approved_at  \\\n",
              "0    delivered      2018-04-25 22:01:49  2018-04-25 22:15:09   \n",
              "1    delivered      2018-06-11 14:59:24  2018-06-11 16:31:42   \n",
              "2    delivered      2018-02-15 13:53:42  2018-02-15 14:10:28   \n",
              "3    delivered      2018-07-24 20:08:54  2018-07-25 20:05:09   \n",
              "4    delivered      2018-05-18 08:24:28  2018-05-18 08:55:36   \n",
              "\n",
              "  order_delivered_carrier_date order_delivered_customer_date  \\\n",
              "0          2018-05-02 15:20:00           2018-05-09 17:36:51   \n",
              "1          2018-06-12 14:15:00           2018-06-18 16:41:04   \n",
              "2          2018-02-16 22:38:59           2018-03-02 22:29:04   \n",
              "3          2018-07-26 16:04:00           2018-07-30 17:20:59   \n",
              "4          2018-05-24 09:45:00           2018-06-12 18:18:45   \n",
              "\n",
              "  order_estimated_delivery_date                         review_id  \\\n",
              "0           2018-05-22 00:00:00  4ce650e117a5b292bf5ea980a61eb61e   \n",
              "1           2018-07-04 00:00:00  5f65ad4b5147b940da2da6802f18bbf7   \n",
              "2           2018-03-08 00:00:00  fad89f16742c04dcdfec38fd6c115561   \n",
              "3           2018-08-07 00:00:00  bc0fa803dc47267d440652c24692784d   \n",
              "4           2018-06-07 00:00:00  4d18eb591789b7687cf69ad6d6d4485c   \n",
              "\n",
              "   review_score review_comment_title  \\\n",
              "0             1        Não recomendo   \n",
              "1             4                  NaN   \n",
              "2             4                  NaN   \n",
              "3             3                  NaN   \n",
              "4             5           Não recebi   \n",
              "\n",
              "                              review_comment_message review_creation_date  \\\n",
              "0  Produto com qualidade ruim, amassado e descasc...  2018-05-10 00:00:00   \n",
              "1                                                NaN  2018-06-19 00:00:00   \n",
              "2    Otimo produto recebir no prazo certo,recomento   2018-03-03 00:00:00   \n",
              "3                                                NaN  2018-07-31 00:00:00   \n",
              "4                                         Não recebi  2018-06-09 00:00:00   \n",
              "\n",
              "  review_answer_timestamp                customer_unique_id  \\\n",
              "0     2018-05-15 23:38:00  708ab75d2a007f0564aedd11139c7708   \n",
              "1     2018-06-19 20:20:45  55020cb68ae358a51969695657a54e9c   \n",
              "2     2018-03-04 20:25:59  aca152a8bcfa7d7059b7787c67d60d52   \n",
              "3     2018-08-01 09:12:07  9aa679326b151fc564c2a238f361aa7d   \n",
              "4     2018-06-10 06:55:36  2acd1014f0a4e286b0896f30b67c1e80   \n",
              "\n",
              "   zip_code_prefix_customer    customer_city customer_state  \\\n",
              "0                     39801    teofilo otoni             MG   \n",
              "1                     15520  valentim gentil             SP   \n",
              "2                     13295          itupeva             SP   \n",
              "3                      5678        sao paulo             SP   \n",
              "4                     79010     campo grande             MS   \n",
              "\n",
              "   geolocation_lat_customer  geolocation_lng_customer  \\\n",
              "0                -17.851690                -41.493610   \n",
              "1                -20.421158                -50.086044   \n",
              "2                -23.159152                -47.058208   \n",
              "3                -23.597505                -46.704756   \n",
              "4                -20.442482                -54.607675   \n",
              "\n",
              "  geolocation_city_customer geolocation_state_customer  \\\n",
              "0             teofilo otoni                         MG   \n",
              "1           valentim gentil                         SP   \n",
              "2                   itupeva                         SP   \n",
              "3                 sao paulo                         SP   \n",
              "4              campo grande                         MS   \n",
              "\n",
              "                         product_id  product_name_lenght  \\\n",
              "0  af74cc53dcffc8384b29e7abfa41902b                 57.0   \n",
              "1  2233b59e8cf2817f9659e52cce3093de                 58.0   \n",
              "2  679a3e5e1d2bb68982be5734c6e55e63                 57.0   \n",
              "3  cce794ab6b84d0345332bb1910f9eb20                 60.0   \n",
              "4  81bc8fd12691dc4b290dc8c668532e1e                 55.0   \n",
              "\n",
              "   product_description_lenght  product_photos_qty  product_weight_g  \\\n",
              "0                       921.0                 8.0             800.0   \n",
              "1                      1624.0                 3.0            9350.0   \n",
              "2                       565.0                 4.0             800.0   \n",
              "3                       843.0                 1.0             275.0   \n",
              "4                      1500.0                 1.0            1250.0   \n",
              "\n",
              "   product_length_cm  product_height_cm  product_width_cm  order_item_id  \\\n",
              "0               17.0               27.0              17.0              1   \n",
              "1               20.0               20.0              20.0              1   \n",
              "2               38.0               38.0              22.0              1   \n",
              "3               20.0               11.0              19.0              1   \n",
              "4               25.0               43.0              17.0              1   \n",
              "\n",
              "                          seller_id  shipping_limit_date   price  \\\n",
              "0  213b25e6f54661939f11710a6fddb871  2018-05-02 22:15:09   79.80   \n",
              "1  e3d3b3efac954a60d61be70b7e05b49b  2018-06-15 15:20:20  316.05   \n",
              "2  8a130737016f838139d31878787a39c9  2018-02-21 13:10:28   54.40   \n",
              "3  165b1235e9e9942cb5fae67103576fb0  2018-07-31 20:05:09   21.70   \n",
              "4  76d5af76d0271110f9af36c92573f765  2018-05-23 08:55:36  156.45   \n",
              "\n",
              "   freight_value  zip_code_prefix_seller     seller_city seller_state  \\\n",
              "0          19.53                   13321           salto           SP   \n",
              "1          24.03                    3370       sao paulo           SP   \n",
              "2          12.72                    3187       sao paulo           SP   \n",
              "3          14.46                   14020  ribeirao preto           SP   \n",
              "4          18.68                    3194       sao paulo           SP   \n",
              "\n",
              "   geolocation_lat_seller  geolocation_lng_seller geolocation_city_seller  \\\n",
              "0              -23.190244              -47.291571                   salto   \n",
              "1              -23.567995              -46.557625               sao paulo   \n",
              "2              -23.566231              -46.580203               sao paulo   \n",
              "3              -21.210105              -47.801390          ribeirao preto   \n",
              "4              -23.567890              -46.573948               são paulo   \n",
              "\n",
              "  geolocation_state_seller product_category_name  order_purchase_year  \\\n",
              "0                       SP     home_construction                 2018   \n",
              "1                       SP     home_construction                 2018   \n",
              "2                       SP     home_construction                 2018   \n",
              "3                       SP     home_construction                 2018   \n",
              "4                       SP     home_construction                 2018   \n",
              "\n",
              "   order_purchase_month order_purchase_month_name  order_purchase_year_month  \\\n",
              "0                     4                       Apr                     201804   \n",
              "1                     6                       Jun                     201806   \n",
              "2                     2                       Feb                     201802   \n",
              "3                     7                       Jul                     201807   \n",
              "4                     5                       May                     201805   \n",
              "\n",
              "   order_purchase_date  order_purchase_day  order_purchase_dayofweek  \\\n",
              "0             20180425                  25                         2   \n",
              "1             20180611                  11                         0   \n",
              "2             20180215                  15                         3   \n",
              "3             20180724                  24                         1   \n",
              "4             20180518                  18                         4   \n",
              "\n",
              "  order_purchase_dayofweek_name  order_purchase_hour order_purchase_time_day  \n",
              "0                           Wed                   22                   Night  \n",
              "1                           Mon                   14               Afternoon  \n",
              "2                           Thu                   13               Afternoon  \n",
              "3                           Tue                   20                   Night  \n",
              "4                           Fri                    8                 Morning  "
            ]
          },
          "metadata": {},
          "execution_count": 7
        }
      ]
    },
    {
      "cell_type": "code",
      "metadata": {
        "colab": {
          "base_uri": "https://localhost:8080/"
        },
        "id": "5oZADoKM-LHP",
        "outputId": "4d535297-e557-4fae-f4c4-3bc9a3dea52f"
      },
      "source": [
        "features = ['order_id', 'order_status', 'order_purchase_timestamp',\n",
        "       'payment_value', 'customer_unique_id', 'zip_code_prefix_customer','order_item_id',\n",
        "       'customer_city', 'customer_state','order_purchase_date','order_delivered_customer_date','price','freight_value']\n",
        "dff = df[features]\n",
        "dff.shape"
      ],
      "execution_count": 8,
      "outputs": [
        {
          "output_type": "execute_result",
          "data": {
            "text/plain": [
              "(116581, 13)"
            ]
          },
          "metadata": {},
          "execution_count": 8
        }
      ]
    },
    {
      "cell_type": "code",
      "metadata": {
        "id": "DGsBEEzc-dJx"
      },
      "source": [
        "Olist_db= dff.copy()"
      ],
      "execution_count": 9,
      "outputs": []
    },
    {
      "cell_type": "code",
      "metadata": {
        "id": "bLD6Ldr7DJAw",
        "outputId": "03fc7d5a-09ac-4e14-a5a3-778f1a0de3f1",
        "colab": {
          "base_uri": "https://localhost:8080/"
        }
      },
      "source": [
        "Olist_db.isnull().sum()"
      ],
      "execution_count": 12,
      "outputs": [
        {
          "output_type": "execute_result",
          "data": {
            "text/plain": [
              "order_id                         0\n",
              "order_status                     0\n",
              "order_purchase_timestamp         0\n",
              "payment_value                    0\n",
              "customer_unique_id               0\n",
              "zip_code_prefix_customer         0\n",
              "order_item_id                    0\n",
              "customer_city                    0\n",
              "customer_state                   0\n",
              "order_purchase_date              0\n",
              "order_delivered_customer_date    0\n",
              "price                            0\n",
              "freight_value                    0\n",
              "dtype: int64"
            ]
          },
          "metadata": {},
          "execution_count": 12
        }
      ]
    },
    {
      "cell_type": "code",
      "metadata": {
        "id": "bnkur3eCDJSl"
      },
      "source": [
        "Olist_db.dropna(inplace=True)"
      ],
      "execution_count": 11,
      "outputs": []
    },
    {
      "cell_type": "code",
      "metadata": {
        "colab": {
          "base_uri": "https://localhost:8080/",
          "height": 295
        },
        "id": "yFSeyQse-TAQ",
        "outputId": "f8680a72-6fa0-488a-b936-425952cc627b"
      },
      "source": [
        "Olist_db.describe()"
      ],
      "execution_count": 13,
      "outputs": [
        {
          "output_type": "execute_result",
          "data": {
            "text/html": [
              "<div>\n",
              "<style scoped>\n",
              "    .dataframe tbody tr th:only-of-type {\n",
              "        vertical-align: middle;\n",
              "    }\n",
              "\n",
              "    .dataframe tbody tr th {\n",
              "        vertical-align: top;\n",
              "    }\n",
              "\n",
              "    .dataframe thead th {\n",
              "        text-align: right;\n",
              "    }\n",
              "</style>\n",
              "<table border=\"1\" class=\"dataframe\">\n",
              "  <thead>\n",
              "    <tr style=\"text-align: right;\">\n",
              "      <th></th>\n",
              "      <th>payment_value</th>\n",
              "      <th>zip_code_prefix_customer</th>\n",
              "      <th>order_item_id</th>\n",
              "      <th>order_purchase_date</th>\n",
              "      <th>price</th>\n",
              "      <th>freight_value</th>\n",
              "    </tr>\n",
              "  </thead>\n",
              "  <tbody>\n",
              "    <tr>\n",
              "      <th>count</th>\n",
              "      <td>114066.000000</td>\n",
              "      <td>114066.000000</td>\n",
              "      <td>114066.000000</td>\n",
              "      <td>1.140660e+05</td>\n",
              "      <td>114066.000000</td>\n",
              "      <td>114066.000000</td>\n",
              "    </tr>\n",
              "    <tr>\n",
              "      <th>mean</th>\n",
              "      <td>172.135500</td>\n",
              "      <td>35081.680133</td>\n",
              "      <td>1.197500</td>\n",
              "      <td>2.017603e+07</td>\n",
              "      <td>120.008792</td>\n",
              "      <td>20.010184</td>\n",
              "    </tr>\n",
              "    <tr>\n",
              "      <th>std</th>\n",
              "      <td>266.139258</td>\n",
              "      <td>29849.608164</td>\n",
              "      <td>0.703142</td>\n",
              "      <td>4.870590e+03</td>\n",
              "      <td>182.426455</td>\n",
              "      <td>15.726425</td>\n",
              "    </tr>\n",
              "    <tr>\n",
              "      <th>min</th>\n",
              "      <td>0.000000</td>\n",
              "      <td>1003.000000</td>\n",
              "      <td>1.000000</td>\n",
              "      <td>2.016100e+07</td>\n",
              "      <td>0.850000</td>\n",
              "      <td>0.000000</td>\n",
              "    </tr>\n",
              "    <tr>\n",
              "      <th>25%</th>\n",
              "      <td>60.960000</td>\n",
              "      <td>11310.000000</td>\n",
              "      <td>1.000000</td>\n",
              "      <td>2.017091e+07</td>\n",
              "      <td>39.900000</td>\n",
              "      <td>13.080000</td>\n",
              "    </tr>\n",
              "    <tr>\n",
              "      <th>50%</th>\n",
              "      <td>108.065000</td>\n",
              "      <td>24320.000000</td>\n",
              "      <td>1.000000</td>\n",
              "      <td>2.018012e+07</td>\n",
              "      <td>74.900000</td>\n",
              "      <td>16.320000</td>\n",
              "    </tr>\n",
              "    <tr>\n",
              "      <th>75%</th>\n",
              "      <td>189.370000</td>\n",
              "      <td>58801.750000</td>\n",
              "      <td>1.000000</td>\n",
              "      <td>2.018050e+07</td>\n",
              "      <td>133.000000</td>\n",
              "      <td>21.190000</td>\n",
              "    </tr>\n",
              "    <tr>\n",
              "      <th>max</th>\n",
              "      <td>13664.080000</td>\n",
              "      <td>99980.000000</td>\n",
              "      <td>21.000000</td>\n",
              "      <td>2.018083e+07</td>\n",
              "      <td>6735.000000</td>\n",
              "      <td>409.680000</td>\n",
              "    </tr>\n",
              "  </tbody>\n",
              "</table>\n",
              "</div>"
            ],
            "text/plain": [
              "       payment_value  zip_code_prefix_customer  order_item_id  \\\n",
              "count  114066.000000             114066.000000  114066.000000   \n",
              "mean      172.135500              35081.680133       1.197500   \n",
              "std       266.139258              29849.608164       0.703142   \n",
              "min         0.000000               1003.000000       1.000000   \n",
              "25%        60.960000              11310.000000       1.000000   \n",
              "50%       108.065000              24320.000000       1.000000   \n",
              "75%       189.370000              58801.750000       1.000000   \n",
              "max     13664.080000              99980.000000      21.000000   \n",
              "\n",
              "       order_purchase_date          price  freight_value  \n",
              "count         1.140660e+05  114066.000000  114066.000000  \n",
              "mean          2.017603e+07     120.008792      20.010184  \n",
              "std           4.870590e+03     182.426455      15.726425  \n",
              "min           2.016100e+07       0.850000       0.000000  \n",
              "25%           2.017091e+07      39.900000      13.080000  \n",
              "50%           2.018012e+07      74.900000      16.320000  \n",
              "75%           2.018050e+07     133.000000      21.190000  \n",
              "max           2.018083e+07    6735.000000     409.680000  "
            ]
          },
          "metadata": {},
          "execution_count": 13
        }
      ]
    },
    {
      "cell_type": "code",
      "metadata": {
        "id": "GAk0_P7m-Xgp"
      },
      "source": [
        "cond = Olist_db[\"order_status\"] == \"delivered\"\n",
        "Olist_db = Olist_db.loc[cond]"
      ],
      "execution_count": 15,
      "outputs": []
    },
    {
      "cell_type": "code",
      "metadata": {
        "colab": {
          "base_uri": "https://localhost:8080/",
          "height": 315
        },
        "id": "NbUu4tpA-iRR",
        "outputId": "924f0265-3136-4deb-89f3-65794c6e48f9"
      },
      "source": [
        "out= Olist_db[Olist_db['payment_value']>= 8000]\n",
        "out"
      ],
      "execution_count": 16,
      "outputs": [
        {
          "output_type": "execute_result",
          "data": {
            "text/html": [
              "<div>\n",
              "<style scoped>\n",
              "    .dataframe tbody tr th:only-of-type {\n",
              "        vertical-align: middle;\n",
              "    }\n",
              "\n",
              "    .dataframe tbody tr th {\n",
              "        vertical-align: top;\n",
              "    }\n",
              "\n",
              "    .dataframe thead th {\n",
              "        text-align: right;\n",
              "    }\n",
              "</style>\n",
              "<table border=\"1\" class=\"dataframe\">\n",
              "  <thead>\n",
              "    <tr style=\"text-align: right;\">\n",
              "      <th></th>\n",
              "      <th>order_id</th>\n",
              "      <th>order_status</th>\n",
              "      <th>order_purchase_timestamp</th>\n",
              "      <th>payment_value</th>\n",
              "      <th>customer_unique_id</th>\n",
              "      <th>zip_code_prefix_customer</th>\n",
              "      <th>order_item_id</th>\n",
              "      <th>customer_city</th>\n",
              "      <th>customer_state</th>\n",
              "      <th>order_purchase_date</th>\n",
              "      <th>order_delivered_customer_date</th>\n",
              "      <th>price</th>\n",
              "      <th>freight_value</th>\n",
              "    </tr>\n",
              "  </thead>\n",
              "  <tbody>\n",
              "    <tr>\n",
              "      <th>111624</th>\n",
              "      <td>03caa2c082116e1d31e67e9ae3700499</td>\n",
              "      <td>delivered</td>\n",
              "      <td>2017-09-29 15:24:52</td>\n",
              "      <td>13664.08</td>\n",
              "      <td>0a0a92112bd4c708ca5fde585afaa872</td>\n",
              "      <td>20080</td>\n",
              "      <td>1</td>\n",
              "      <td>rio de janeiro</td>\n",
              "      <td>RJ</td>\n",
              "      <td>20170929</td>\n",
              "      <td>2017-10-17 18:22:29</td>\n",
              "      <td>1680.0</td>\n",
              "      <td>28.01</td>\n",
              "    </tr>\n",
              "    <tr>\n",
              "      <th>111625</th>\n",
              "      <td>03caa2c082116e1d31e67e9ae3700499</td>\n",
              "      <td>delivered</td>\n",
              "      <td>2017-09-29 15:24:52</td>\n",
              "      <td>13664.08</td>\n",
              "      <td>0a0a92112bd4c708ca5fde585afaa872</td>\n",
              "      <td>20080</td>\n",
              "      <td>2</td>\n",
              "      <td>rio de janeiro</td>\n",
              "      <td>RJ</td>\n",
              "      <td>20170929</td>\n",
              "      <td>2017-10-17 18:22:29</td>\n",
              "      <td>1680.0</td>\n",
              "      <td>28.01</td>\n",
              "    </tr>\n",
              "    <tr>\n",
              "      <th>111626</th>\n",
              "      <td>03caa2c082116e1d31e67e9ae3700499</td>\n",
              "      <td>delivered</td>\n",
              "      <td>2017-09-29 15:24:52</td>\n",
              "      <td>13664.08</td>\n",
              "      <td>0a0a92112bd4c708ca5fde585afaa872</td>\n",
              "      <td>20080</td>\n",
              "      <td>3</td>\n",
              "      <td>rio de janeiro</td>\n",
              "      <td>RJ</td>\n",
              "      <td>20170929</td>\n",
              "      <td>2017-10-17 18:22:29</td>\n",
              "      <td>1680.0</td>\n",
              "      <td>28.01</td>\n",
              "    </tr>\n",
              "    <tr>\n",
              "      <th>111627</th>\n",
              "      <td>03caa2c082116e1d31e67e9ae3700499</td>\n",
              "      <td>delivered</td>\n",
              "      <td>2017-09-29 15:24:52</td>\n",
              "      <td>13664.08</td>\n",
              "      <td>0a0a92112bd4c708ca5fde585afaa872</td>\n",
              "      <td>20080</td>\n",
              "      <td>4</td>\n",
              "      <td>rio de janeiro</td>\n",
              "      <td>RJ</td>\n",
              "      <td>20170929</td>\n",
              "      <td>2017-10-17 18:22:29</td>\n",
              "      <td>1680.0</td>\n",
              "      <td>28.01</td>\n",
              "    </tr>\n",
              "    <tr>\n",
              "      <th>111628</th>\n",
              "      <td>03caa2c082116e1d31e67e9ae3700499</td>\n",
              "      <td>delivered</td>\n",
              "      <td>2017-09-29 15:24:52</td>\n",
              "      <td>13664.08</td>\n",
              "      <td>0a0a92112bd4c708ca5fde585afaa872</td>\n",
              "      <td>20080</td>\n",
              "      <td>5</td>\n",
              "      <td>rio de janeiro</td>\n",
              "      <td>RJ</td>\n",
              "      <td>20170929</td>\n",
              "      <td>2017-10-17 18:22:29</td>\n",
              "      <td>1680.0</td>\n",
              "      <td>28.01</td>\n",
              "    </tr>\n",
              "    <tr>\n",
              "      <th>111629</th>\n",
              "      <td>03caa2c082116e1d31e67e9ae3700499</td>\n",
              "      <td>delivered</td>\n",
              "      <td>2017-09-29 15:24:52</td>\n",
              "      <td>13664.08</td>\n",
              "      <td>0a0a92112bd4c708ca5fde585afaa872</td>\n",
              "      <td>20080</td>\n",
              "      <td>6</td>\n",
              "      <td>rio de janeiro</td>\n",
              "      <td>RJ</td>\n",
              "      <td>20170929</td>\n",
              "      <td>2017-10-17 18:22:29</td>\n",
              "      <td>1680.0</td>\n",
              "      <td>28.01</td>\n",
              "    </tr>\n",
              "    <tr>\n",
              "      <th>111630</th>\n",
              "      <td>03caa2c082116e1d31e67e9ae3700499</td>\n",
              "      <td>delivered</td>\n",
              "      <td>2017-09-29 15:24:52</td>\n",
              "      <td>13664.08</td>\n",
              "      <td>0a0a92112bd4c708ca5fde585afaa872</td>\n",
              "      <td>20080</td>\n",
              "      <td>7</td>\n",
              "      <td>rio de janeiro</td>\n",
              "      <td>RJ</td>\n",
              "      <td>20170929</td>\n",
              "      <td>2017-10-17 18:22:29</td>\n",
              "      <td>1680.0</td>\n",
              "      <td>28.01</td>\n",
              "    </tr>\n",
              "    <tr>\n",
              "      <th>111631</th>\n",
              "      <td>03caa2c082116e1d31e67e9ae3700499</td>\n",
              "      <td>delivered</td>\n",
              "      <td>2017-09-29 15:24:52</td>\n",
              "      <td>13664.08</td>\n",
              "      <td>0a0a92112bd4c708ca5fde585afaa872</td>\n",
              "      <td>20080</td>\n",
              "      <td>8</td>\n",
              "      <td>rio de janeiro</td>\n",
              "      <td>RJ</td>\n",
              "      <td>20170929</td>\n",
              "      <td>2017-10-17 18:22:29</td>\n",
              "      <td>1680.0</td>\n",
              "      <td>28.01</td>\n",
              "    </tr>\n",
              "  </tbody>\n",
              "</table>\n",
              "</div>"
            ],
            "text/plain": [
              "                                order_id order_status  \\\n",
              "111624  03caa2c082116e1d31e67e9ae3700499    delivered   \n",
              "111625  03caa2c082116e1d31e67e9ae3700499    delivered   \n",
              "111626  03caa2c082116e1d31e67e9ae3700499    delivered   \n",
              "111627  03caa2c082116e1d31e67e9ae3700499    delivered   \n",
              "111628  03caa2c082116e1d31e67e9ae3700499    delivered   \n",
              "111629  03caa2c082116e1d31e67e9ae3700499    delivered   \n",
              "111630  03caa2c082116e1d31e67e9ae3700499    delivered   \n",
              "111631  03caa2c082116e1d31e67e9ae3700499    delivered   \n",
              "\n",
              "       order_purchase_timestamp  payment_value  \\\n",
              "111624      2017-09-29 15:24:52       13664.08   \n",
              "111625      2017-09-29 15:24:52       13664.08   \n",
              "111626      2017-09-29 15:24:52       13664.08   \n",
              "111627      2017-09-29 15:24:52       13664.08   \n",
              "111628      2017-09-29 15:24:52       13664.08   \n",
              "111629      2017-09-29 15:24:52       13664.08   \n",
              "111630      2017-09-29 15:24:52       13664.08   \n",
              "111631      2017-09-29 15:24:52       13664.08   \n",
              "\n",
              "                      customer_unique_id  zip_code_prefix_customer  \\\n",
              "111624  0a0a92112bd4c708ca5fde585afaa872                     20080   \n",
              "111625  0a0a92112bd4c708ca5fde585afaa872                     20080   \n",
              "111626  0a0a92112bd4c708ca5fde585afaa872                     20080   \n",
              "111627  0a0a92112bd4c708ca5fde585afaa872                     20080   \n",
              "111628  0a0a92112bd4c708ca5fde585afaa872                     20080   \n",
              "111629  0a0a92112bd4c708ca5fde585afaa872                     20080   \n",
              "111630  0a0a92112bd4c708ca5fde585afaa872                     20080   \n",
              "111631  0a0a92112bd4c708ca5fde585afaa872                     20080   \n",
              "\n",
              "        order_item_id   customer_city customer_state  order_purchase_date  \\\n",
              "111624              1  rio de janeiro             RJ             20170929   \n",
              "111625              2  rio de janeiro             RJ             20170929   \n",
              "111626              3  rio de janeiro             RJ             20170929   \n",
              "111627              4  rio de janeiro             RJ             20170929   \n",
              "111628              5  rio de janeiro             RJ             20170929   \n",
              "111629              6  rio de janeiro             RJ             20170929   \n",
              "111630              7  rio de janeiro             RJ             20170929   \n",
              "111631              8  rio de janeiro             RJ             20170929   \n",
              "\n",
              "       order_delivered_customer_date   price  freight_value  \n",
              "111624           2017-10-17 18:22:29  1680.0          28.01  \n",
              "111625           2017-10-17 18:22:29  1680.0          28.01  \n",
              "111626           2017-10-17 18:22:29  1680.0          28.01  \n",
              "111627           2017-10-17 18:22:29  1680.0          28.01  \n",
              "111628           2017-10-17 18:22:29  1680.0          28.01  \n",
              "111629           2017-10-17 18:22:29  1680.0          28.01  \n",
              "111630           2017-10-17 18:22:29  1680.0          28.01  \n",
              "111631           2017-10-17 18:22:29  1680.0          28.01  "
            ]
          },
          "metadata": {},
          "execution_count": 16
        }
      ]
    },
    {
      "cell_type": "code",
      "metadata": {
        "id": "F5w_3gRId5Tg"
      },
      "source": [
        ""
      ],
      "execution_count": 16,
      "outputs": []
    },
    {
      "cell_type": "code",
      "metadata": {
        "id": "_7IqoM9I-oCP"
      },
      "source": [
        "Olist_db=Olist_db[Olist_db['payment_value']<= 8000]"
      ],
      "execution_count": 17,
      "outputs": []
    },
    {
      "cell_type": "code",
      "metadata": {
        "id": "x5cSzzOI-zvD"
      },
      "source": [
        ""
      ],
      "execution_count": 17,
      "outputs": []
    },
    {
      "cell_type": "code",
      "metadata": {
        "id": "txIJ1rjc-z1S"
      },
      "source": [
        "#le prix qu'un client paye lors de sa commande \n",
        "Olist_db['Montant_achat']=(Olist_db['price']*Olist_db['order_item_id'])+(Olist_db['freight_value']*Olist_db['order_item_id'])\n",
        "#le prix de la livraison que le client paye \n",
        "Olist_db['Prix_Livraison']=(Olist_db['freight_value']*Olist_db['order_item_id'])\n",
        "#le prix que le client paye avec  le nombre de produits quil a commande \n",
        "Olist_db['Prix_produit']=(Olist_db['price']*Olist_db['order_item_id'])"
      ],
      "execution_count": 18,
      "outputs": []
    },
    {
      "cell_type": "code",
      "metadata": {
        "id": "D1PuXw-u-zx5"
      },
      "source": [
        ""
      ],
      "execution_count": 18,
      "outputs": []
    },
    {
      "cell_type": "code",
      "metadata": {
        "id": "Hc_fdgC6-oHQ"
      },
      "source": [
        "import datetime as dt"
      ],
      "execution_count": 19,
      "outputs": []
    },
    {
      "cell_type": "code",
      "metadata": {
        "id": "oJ6l8764-oJR"
      },
      "source": [
        "# Make the date_placed column datetime\n",
        "Olist_db['order_purchase_timestamp'] = pd.to_datetime(Olist_db['order_purchase_timestamp'])"
      ],
      "execution_count": 20,
      "outputs": []
    },
    {
      "cell_type": "code",
      "metadata": {
        "colab": {
          "base_uri": "https://localhost:8080/"
        },
        "id": "j5pomnh--oM5",
        "outputId": "a18e7d4d-34f5-4088-da42-b19275c285ec"
      },
      "source": [
        "Olist_db['order_purchase_date'].max()"
      ],
      "execution_count": 21,
      "outputs": [
        {
          "output_type": "execute_result",
          "data": {
            "text/plain": [
              "20180829"
            ]
          },
          "metadata": {},
          "execution_count": 21
        }
      ]
    },
    {
      "cell_type": "code",
      "metadata": {
        "id": "J5fg9-Q7-62P"
      },
      "source": [
        "NOW = dt.datetime(2018,8,30)\n",
        "\n",
        "rfmTable = Olist_db.groupby('customer_unique_id').agg({'order_purchase_timestamp': lambda x: ((NOW - x.max()).days)+1 , # Recency\n",
        "                                        'order_id': lambda x: len(x),      # Frequency\n",
        "                                        'Montant_achat': lambda x: x.sum()}).reset_index() # Monetary Value\n",
        "\n",
        "rfmTable['order_purchase_timestamp'] = rfmTable['order_purchase_timestamp'].astype(int)\n",
        "rfmTable.rename(columns={'order_purchase_timestamp': 'Recency', \n",
        "                         'order_id': 'Frequency', \n",
        "                         'Montant_achat': 'Monetary'}, inplace=True)"
      ],
      "execution_count": 22,
      "outputs": []
    },
    {
      "cell_type": "code",
      "metadata": {
        "id": "n4eaMfuT--SW"
      },
      "source": [
        "rfm_df= rfmTable[['Recency', 'Frequency', 'Monetary']]"
      ],
      "execution_count": 23,
      "outputs": []
    },
    {
      "cell_type": "code",
      "metadata": {
        "id": "81rspJlj-_gC"
      },
      "source": [
        "from sklearn.preprocessing import StandardScaler\n",
        "\n",
        "data_log = np.log(rfm_df)\n",
        "scaler = StandardScaler()\n",
        "scaler.fit(data_log)\n",
        "data_normalized = scaler.transform(data_log)\n",
        "data_normalized = pd.DataFrame(data=data_normalized, index=rfm_df.index, columns=rfm_df.columns)"
      ],
      "execution_count": 24,
      "outputs": []
    },
    {
      "cell_type": "code",
      "metadata": {
        "colab": {
          "base_uri": "https://localhost:8080/",
          "height": 203
        },
        "id": "RCjY58Ww-_lH",
        "outputId": "d3feba61-b3ff-46b8-edbd-c8355b284471"
      },
      "source": [
        "data_normalized.head()"
      ],
      "execution_count": 25,
      "outputs": [
        {
          "output_type": "execute_result",
          "data": {
            "text/html": [
              "<div>\n",
              "<style scoped>\n",
              "    .dataframe tbody tr th:only-of-type {\n",
              "        vertical-align: middle;\n",
              "    }\n",
              "\n",
              "    .dataframe tbody tr th {\n",
              "        vertical-align: top;\n",
              "    }\n",
              "\n",
              "    .dataframe thead th {\n",
              "        text-align: right;\n",
              "    }\n",
              "</style>\n",
              "<table border=\"1\" class=\"dataframe\">\n",
              "  <thead>\n",
              "    <tr style=\"text-align: right;\">\n",
              "      <th></th>\n",
              "      <th>Recency</th>\n",
              "      <th>Frequency</th>\n",
              "      <th>Monetary</th>\n",
              "    </tr>\n",
              "  </thead>\n",
              "  <tbody>\n",
              "    <tr>\n",
              "      <th>0</th>\n",
              "      <td>-0.465063</td>\n",
              "      <td>-0.387568</td>\n",
              "      <td>0.181293</td>\n",
              "    </tr>\n",
              "    <tr>\n",
              "      <th>1</th>\n",
              "      <td>-0.437026</td>\n",
              "      <td>-0.387568</td>\n",
              "      <td>-1.685822</td>\n",
              "    </tr>\n",
              "    <tr>\n",
              "      <th>2</th>\n",
              "      <td>1.199536</td>\n",
              "      <td>-0.387568</td>\n",
              "      <td>-0.381710</td>\n",
              "    </tr>\n",
              "    <tr>\n",
              "      <th>3</th>\n",
              "      <td>0.655078</td>\n",
              "      <td>-0.387568</td>\n",
              "      <td>-1.151696</td>\n",
              "    </tr>\n",
              "    <tr>\n",
              "      <th>4</th>\n",
              "      <td>0.540391</td>\n",
              "      <td>-0.387568</td>\n",
              "      <td>0.551403</td>\n",
              "    </tr>\n",
              "  </tbody>\n",
              "</table>\n",
              "</div>"
            ],
            "text/plain": [
              "    Recency  Frequency  Monetary\n",
              "0 -0.465063  -0.387568  0.181293\n",
              "1 -0.437026  -0.387568 -1.685822\n",
              "2  1.199536  -0.387568 -0.381710\n",
              "3  0.655078  -0.387568 -1.151696\n",
              "4  0.540391  -0.387568  0.551403"
            ]
          },
          "metadata": {},
          "execution_count": 25
        }
      ]
    },
    {
      "cell_type": "code",
      "metadata": {
        "id": "ODmdLw4p_dVQ"
      },
      "source": [
        "from sklearn.cluster import KMeans\n",
        "#from sklearn import metrics, cluster\n",
        "from yellowbrick.cluster import KElbowVisualizer, SilhouetteVisualizer\n",
        "from sklearn.datasets import make_blobs"
      ],
      "execution_count": 26,
      "outputs": []
    },
    {
      "cell_type": "code",
      "metadata": {
        "colab": {
          "base_uri": "https://localhost:8080/",
          "height": 393
        },
        "id": "ZTMUSMlu_dYX",
        "outputId": "fa1be81d-a554-439c-881d-7ea0da45e751"
      },
      "source": [
        "model = KMeans()\n",
        "visualizer = KElbowVisualizer(model, k=(3,12))\n",
        "\n",
        "visualizer.fit(data_normalized)   \n",
        "visualizer.poof()"
      ],
      "execution_count": 27,
      "outputs": [
        {
          "output_type": "display_data",
          "data": {
            "image/png": "[encoded data removed]",
            "text/plain": [
              "<Figure size 576x396 with 2 Axes>"
            ]
          },
          "metadata": {}
        },
        {
          "output_type": "execute_result",
          "data": {
            "text/plain": [
              "<matplotlib.axes._subplots.AxesSubplot at 0x7fdf29cabcd0>"
            ]
          },
          "metadata": {},
          "execution_count": 27
        }
      ]
    },
    {
      "cell_type": "code",
      "metadata": {
        "id": "TFOCdazTvXiq",
        "outputId": "062f7638-6499-40e9-85e7-e730adbef32d",
        "colab": {
          "base_uri": "https://localhost:8080/",
          "height": 393
        }
      },
      "source": [
        "# Instantiate the clustering model and visualizer \n",
        "model = KMeans()\n",
        "visualizer = KElbowVisualizer(model, k=(2,12), metric='calinski_harabasz', timings=False)\n",
        "\n",
        "visualizer.fit(data_normalized)    # Fit the data to the visualizer\n",
        "visualizer.show()    # Finalize and render the figure"
      ],
      "execution_count": 28,
      "outputs": [
        {
          "output_type": "display_data",
          "data": {
            "image/png": "[encoded data removed]",
            "text/plain": [
              "<Figure size 576x396 with 1 Axes>"
            ]
          },
          "metadata": {}
        },
        {
          "output_type": "execute_result",
          "data": {
            "text/plain": [
              "<matplotlib.axes._subplots.AxesSubplot at 0x7fdf20bfa610>"
            ]
          },
          "metadata": {},
          "execution_count": 28
        }
      ]
    },
    {
      "cell_type": "code",
      "metadata": {
        "id": "idn-LkvK_dcA"
      },
      "source": [
        "from sklearn.datasets import make_blobs\n",
        "from sklearn.cluster import DBSCAN\n",
        "from sklearn import metrics"
      ],
      "execution_count": 29,
      "outputs": []
    },
    {
      "cell_type": "code",
      "metadata": {
        "id": "CSHyEqsx-_pv"
      },
      "source": [
        "db = DBSCAN(eps=0.3).fit(data_normalized)"
      ],
      "execution_count": 30,
      "outputs": []
    },
    {
      "cell_type": "code",
      "metadata": {
        "id": "BsuHs310_2G5"
      },
      "source": [
        "labels = db.labels_\n",
        "no_clusters = len(np.unique(labels) )\n",
        "no_noise = np.sum(np.array(labels) == -1, axis=0)"
      ],
      "execution_count": 31,
      "outputs": []
    },
    {
      "cell_type": "code",
      "metadata": {
        "colab": {
          "base_uri": "https://localhost:8080/"
        },
        "id": "vXgPhEjC_2gW",
        "outputId": "fa8d16bf-506f-427e-edfd-78f7451a0b76"
      },
      "source": [
        "print('Estimated no. of clusters: %d' % no_clusters)\n",
        "print('Estimated no. of noise points: %d' % no_noise)"
      ],
      "execution_count": 32,
      "outputs": [
        {
          "output_type": "stream",
          "name": "stdout",
          "text": [
            "Estimated no. of clusters: 21\n",
            "Estimated no. of noise points: 463\n"
          ]
        }
      ]
    },
    {
      "cell_type": "code",
      "metadata": {
        "id": "T_GMtPp3AUE1"
      },
      "source": [
        "from sklearn import metrics\n",
        "df = pd.DataFrame()\n",
        "my_clust4 = KMeans(n_clusters=4, random_state=1)\n",
        "my_clust4.fit(data_normalized)\n",
        "\n",
        "for i in range(200):\n",
        "    test = KMeans(n_clusters=4)\n",
        "    test.fit_predict(data_normalized)\n",
        "    ari = metrics.adjusted_rand_score(my_clust4.labels_, test.labels_)\n",
        "    test = pd.DataFrame(test.cluster_centers_)\n",
        "    test.columns = ['RecencyCor', 'FrequenceCor', 'MonetaryCor']\n",
        "    test['Indice'] = i\n",
        "    test['ARI'] = ari\n",
        "    # Calcul du rand score qui doit etre proche de 1\n",
        "    # car ils sont choisis aleatoirement\n",
        "    df = pd.concat([df, test])"
      ],
      "execution_count": 136,
      "outputs": []
    },
    {
      "cell_type": "code",
      "metadata": {
        "colab": {
          "base_uri": "https://localhost:8080/",
          "height": 373
        },
        "id": "aVgXTNPSAZkn",
        "outputId": "90143d15-81d5-4ac4-eddb-b821aa3ed852"
      },
      "source": [
        "df['ARI'].hist()   "
      ],
      "execution_count": 137,
      "outputs": [
        {
          "output_type": "execute_result",
          "data": {
            "text/plain": [
              "<matplotlib.axes._subplots.AxesSubplot at 0x7f18dcee3750>"
            ]
          },
          "metadata": {},
          "execution_count": 137
        },
        {
          "output_type": "display_data",
          "data": {
            "image/png": "[encoded data removed]",
            "text/plain": [
              "<Figure size 576x396 with 1 Axes>"
            ]
          },
          "metadata": {}
        }
      ]
    },
    {
      "cell_type": "code",
      "metadata": {
        "id": "7DZl8R-w_2jM"
      },
      "source": [
        "from sklearn import metrics\n",
        "gg = pd.DataFrame()\n",
        "my_clust4 = KMeans(n_clusters=5, random_state=1)\n",
        "my_clust4.fit(data_normalized)\n",
        "\n",
        "for i in range(200):\n",
        "    test = KMeans(n_clusters=5)\n",
        "    test.fit_predict(data_normalized)\n",
        "    ari = metrics.adjusted_rand_score(my_clust4.labels_, test.labels_)\n",
        "    test = pd.DataFrame(test.cluster_centers_)\n",
        "    test.columns = ['RecencyCor', 'FrequenceCor', 'MonetaryCor']\n",
        "    test['Indice'] = i\n",
        "    test['ARI'] = ari\n",
        "    # Calcul du rand score qui doit etre proche de 1\n",
        "    # car ils sont choisis aleatoirement\n",
        "    gg = pd.concat([gg, test])"
      ],
      "execution_count": null,
      "outputs": []
    },
    {
      "cell_type": "code",
      "metadata": {
        "colab": {
          "base_uri": "https://localhost:8080/",
          "height": 364
        },
        "id": "_3cSansK_2mi",
        "outputId": "4ac51c16-8308-4217-933f-78912c2b0d16"
      },
      "source": [
        "# gg['ARI'].hist()  keeping outliers"
      ],
      "execution_count": 34,
      "outputs": [
        {
          "output_type": "execute_result",
          "data": {
            "text/plain": [
              "<matplotlib.axes._subplots.AxesSubplot at 0x7f18de83ffd0>"
            ]
          },
          "metadata": {},
          "execution_count": 34
        },
        {
          "output_type": "display_data",
          "data": {
            "image/png": "[encoded data removed]",
            "text/plain": [
              "<Figure size 576x396 with 1 Axes>"
            ]
          },
          "metadata": {}
        }
      ]
    },
    {
      "cell_type": "code",
      "metadata": {
        "id": "Qkncycd-JBes"
      },
      "source": [
        ""
      ],
      "execution_count": null,
      "outputs": []
    },
    {
      "cell_type": "code",
      "metadata": {
        "id": "X7nu-NA-JBiS"
      },
      "source": [
        "dataEtude=Olist_db.copy()"
      ],
      "execution_count": 318,
      "outputs": []
    },
    {
      "cell_type": "code",
      "metadata": {
        "id": "i-3YOHc7JBlb"
      },
      "source": [
        "dataEtude['order_purchase_timestamp']=pd.to_datetime(dataEtude['order_purchase_timestamp'])"
      ],
      "execution_count": 319,
      "outputs": []
    },
    {
      "cell_type": "code",
      "metadata": {
        "id": "czMvvSBFJBoL"
      },
      "source": [
        "dataEtude['year']=dataEtude['order_purchase_timestamp'].dt.year"
      ],
      "execution_count": 320,
      "outputs": []
    },
    {
      "cell_type": "code",
      "metadata": {
        "id": "AIrKjcqRJBr2"
      },
      "source": [
        "dataEtude['Date']=dataEtude['order_purchase_timestamp'].dt.strftime( \"%Y-%m-%d\")"
      ],
      "execution_count": 321,
      "outputs": []
    },
    {
      "cell_type": "code",
      "metadata": {
        "id": "tTnSNbtiJBwV"
      },
      "source": [
        "dataEtude['Date']=pd.to_datetime(dataEtude['Date'])"
      ],
      "execution_count": 322,
      "outputs": []
    },
    {
      "cell_type": "code",
      "metadata": {
        "id": "6MPseqxbJPEx"
      },
      "source": [
        "dataEtude['Month_year']=dataEtude['order_purchase_timestamp'].dt.strftime( \"%B-%Y\")\n"
      ],
      "execution_count": 323,
      "outputs": []
    },
    {
      "cell_type": "code",
      "metadata": {
        "id": "5qgVfiA-JR2f"
      },
      "source": [
        ""
      ],
      "execution_count": 323,
      "outputs": []
    },
    {
      "cell_type": "code",
      "metadata": {
        "id": "UPyWrEkGJSa5"
      },
      "source": [
        "data=pd.merge(dataEtude,rfmTable,on='customer_unique_id')"
      ],
      "execution_count": 324,
      "outputs": []
    },
    {
      "cell_type": "code",
      "metadata": {
        "id": "RaO8pEqOJSdV"
      },
      "source": [
        "from sklearn.metrics.cluster import adjusted_rand_score\n",
        "from sklearn import metrics"
      ],
      "execution_count": 325,
      "outputs": []
    },
    {
      "cell_type": "code",
      "metadata": {
        "id": "g0-SeKi4JrH3"
      },
      "source": [
        ""
      ],
      "execution_count": 325,
      "outputs": []
    },
    {
      "cell_type": "code",
      "metadata": {
        "id": "KeC9yFJlJrLS"
      },
      "source": [
        "i = (data['Month_year'] == 'June-2017') ^ (data['Month_year'] == 'July-2017')\n",
        "jun_jul17 = data[i]\n",
        "features = ['Recency', 'Frequency', 'Monetary']\n",
        "index = jun_jul17.columns.isin(features)\n",
        "dataModel_jun_jul17 = jun_jul17[jun_jul17.columns[index]]\n",
        "# Standarisation\n",
        "x_jun_jul17 = dataModel_jun_jul17.values\n",
        "X_scaled_jun_jul17 = StandardScaler().fit_transform(x_jun_jul17)\n",
        "# modele\n",
        "model_jun_jul17 = KMeans(n_clusters=5)\n",
        "model_jun_jul17.fit(X_scaled_jun_jul17)\n",
        "# pred\n",
        "pred_jun_jul17 = KMeans(n_clusters=5)\n",
        "pred_jun_jul17.fit_predict(X_scaled_jun_jul17)\n",
        "ARS_jun_jul17 = adjusted_rand_score(model_jun_jul17.labels_, pred_jun_jul17.labels_)"
      ],
      "execution_count": 335,
      "outputs": []
    },
    {
      "cell_type": "code",
      "metadata": {
        "id": "OrSOR-FBJsQu"
      },
      "source": [
        "i = (data['Month_year'] == 'September-2017') ^ (data['Month_year'] == 'August-2017')\n",
        "    \n",
        "aug17_sep17 = data[i]\n",
        "jun_sep17 = pd.merge(jun_jul17, aug17_sep17, how='outer')\n",
        "features = ['Recency', 'Frequency', 'Monetary']\n",
        "index = jun_sep17.columns.isin(features)\n",
        "dataModel_jun_sep17 = jun_sep17[jun_sep17.columns[index]]\n",
        "# Standarisation\n",
        "x_jun_sep17= dataModel_jun_sep17.values\n",
        "X_scaled_jun_sep17 = StandardScaler().fit_transform(x_jun_sep17)\n",
        "# modele\n",
        "model_jun_sep17 = KMeans(n_clusters=5)\n",
        "model_jun_sep17.fit(X_scaled_jun_sep17)\n",
        "# pred\n",
        "pred_jun_sep17 = KMeans(n_clusters=5)\n",
        "pred_jun_sep17.fit_predict(X_scaled_jun_sep17)\n",
        "ARS_jun_sep17 = adjusted_rand_score(model_jun_sep17.labels_, pred_jun_sep17.labels_)"
      ],
      "execution_count": 336,
      "outputs": []
    },
    {
      "cell_type": "code",
      "metadata": {
        "id": "eonJebXHJxeZ"
      },
      "source": [
        "i = (data['Month_year'] == 'October-2017') ^ (data['Month_year'] == 'November-2017')\n",
        "    \n",
        "oct17_nov17 = data[i]\n",
        "jun_nov17 = pd.merge(jun_jul17, oct17_nov17, how='outer')\n",
        "features = ['Recency', 'Frequency', 'Monetary']\n",
        "index = jun_nov17.columns.isin(features)\n",
        "dataModel_jun_nov17 = jun_nov17[jun_nov17.columns[index]]\n",
        "# Standarisation\n",
        "x_jun_nov17= dataModel_jun_nov17.values\n",
        "X_scaled_jun_nov17 = StandardScaler().fit_transform(x_jun_nov17)\n",
        "# modele\n",
        "model_jun_nov17 = KMeans(n_clusters=5)\n",
        "model_jun_nov17.fit(X_scaled_jun_nov17)\n",
        "# pred\n",
        "pred_jun_nov17 = KMeans(n_clusters=5)\n",
        "pred_jun_nov17.fit_predict(X_scaled_jun_nov17)\n",
        "ARS_jun_nov17 = adjusted_rand_score(model_jun_nov17.labels_, pred_jun_nov17.labels_)"
      ],
      "execution_count": 337,
      "outputs": []
    },
    {
      "cell_type": "code",
      "metadata": {
        "id": "_qKsPXMFJyXY"
      },
      "source": [
        "i = (data['Month_year'] == 'December-2017') ^ (data['Month_year'] == 'January-2018')\n",
        "dec17_jan18 = data[i]\n",
        "jun17_jan18 = pd.merge(jun_nov17, dec17_jan18, how='outer')\n",
        "features = ['Recency', 'Frequency', 'Monetary']\n",
        "index = jun17_jan18.columns.isin(features)\n",
        "dataModel_jun17_jan18 = jun17_jan18[jun17_jan18.columns[index]]\n",
        "# Standarisation\n",
        "x_jun17_jan18= dataModel_jun17_jan18.values\n",
        "X_scaled_jun17_jan18 = StandardScaler().fit_transform(x_jun17_jan18)\n",
        "# modele\n",
        "model_jun17_jan18 = KMeans(n_clusters=5)\n",
        "model_jun17_jan18.fit(X_scaled_jun17_jan18)\n",
        "# pred\n",
        "pred_jun17_jan18 = KMeans(n_clusters=5)\n",
        "pred_jun17_jan18.fit_predict(X_scaled_jun17_jan18)\n",
        "ARS_jun17_jan18 = adjusted_rand_score(model_jun17_jan18.labels_, pred_jun17_jan18.labels_)"
      ],
      "execution_count": 338,
      "outputs": []
    },
    {
      "cell_type": "code",
      "metadata": {
        "id": "_weuVEJ3JyZ4"
      },
      "source": [
        "i = (data['Month_year'] == 'March-2018') ^ (data['Month_year'] == 'February-2018')\n",
        "dec17_mar18 = data[i]\n",
        "jun17_mar18 = pd.merge(jun17_jan18, dec17_mar18, how='outer')\n",
        "features = ['Recency', 'Frequency', 'Monetary']\n",
        "index = jun17_mar18.columns.isin(features)\n",
        "dataModel_jun17_mar18 = jun17_mar18[jun17_mar18.columns[index]]\n",
        "# Standarisation\n",
        "x_jun17_mar18= dataModel_jun17_mar18.values\n",
        "X_scaled_jun17_mar18 = StandardScaler().fit_transform(x_jun17_mar18)\n",
        "# modele\n",
        "model_jun17_mar18 = KMeans(n_clusters=5)\n",
        "model_jun17_mar18.fit(X_scaled_jun17_mar18)\n",
        "# pred\n",
        "pred_jun17_mar18 = KMeans(n_clusters=5)\n",
        "pred_jun17_mar18.fit_predict(X_scaled_jun17_mar18)\n",
        "ARS_jun17_mar18 = adjusted_rand_score(model_jun17_mar18.labels_, pred_jun17_mar18.labels_)"
      ],
      "execution_count": 339,
      "outputs": []
    },
    {
      "cell_type": "code",
      "metadata": {
        "id": "LotjPDjWJycj"
      },
      "source": [
        "i =  (data['Month_year'] == 'April-2018')^ (data['Month_year'] == 'May-2018')\n",
        "apr18_may18 = data[i]\n",
        "jun17_may18 = pd.merge(jun17_mar18, apr18_may18, how='outer')\n",
        "features = ['Recency', 'Frequency', 'Monetary']\n",
        "index = jun17_may18.columns.isin(features)\n",
        "dataModel_jun17_may18 = jun17_may18[jun17_may18.columns[index]]\n",
        "# Standarisation\n",
        "x_jun17_may18= dataModel_jun17_may18.values\n",
        "X_scaled_jun17_may18 = StandardScaler().fit_transform(x_jun17_may18)\n",
        "# modele\n",
        "model_jun17_may18 = KMeans(n_clusters=5)\n",
        "model_jun17_may18.fit(X_scaled_jun17_may18)\n",
        "# pred\n",
        "pred_jun17_may18 = KMeans(n_clusters=5)\n",
        "pred_jun17_may18.fit_predict(X_scaled_jun17_may18)\n",
        "ARS_jun17_may18 = adjusted_rand_score(model_jun17_may18.labels_, pred_jun17_may18.labels_)"
      ],
      "execution_count": 340,
      "outputs": []
    },
    {
      "cell_type": "code",
      "metadata": {
        "id": "dGe4TNRQJyfG"
      },
      "source": [
        "i = (data['Month_year'] == 'June-2018') ^ (data['Month_year'] == 'July-2018') \n",
        "jun18_aug18 = data[i]\n",
        "jun17_aug18 = pd.merge(jun17_may18, jun18_aug18, how='outer')\n",
        "features = ['Recency', 'Frequency', 'Monetary']\n",
        "index = jun17_aug18.columns.isin(features)\n",
        "dataModel_jun17_aug18 = jun17_aug18[jun17_aug18.columns[index]]\n",
        "# Standarisation\n",
        "x_jun17_aug18= dataModel_jun17_aug18.values\n",
        "X_scaled_jun17_aug18 = StandardScaler().fit_transform(x_jun17_aug18)\n",
        "# modele\n",
        "model_jun17_aug18 = KMeans(n_clusters=5)\n",
        "model_jun17_aug18.fit(X_scaled_jun17_aug18)\n",
        "# pred\n",
        "pred_jun17_aug18 = KMeans(n_clusters=5)\n",
        "pred_jun17_aug18.fit_predict(X_scaled_jun17_aug18)\n",
        "ARS_jun17_aug18 = adjusted_rand_score(model_jun17_aug18.labels_, pred_jun17_aug18.labels_)"
      ],
      "execution_count": 341,
      "outputs": []
    },
    {
      "cell_type": "code",
      "metadata": {
        "id": "jP5dT9WXJyhs"
      },
      "source": [
        "sil5 = pd.DataFrame({'Period': ['2 months','4 months','6 months', '8 months', '10 months', '12 months','14 months'], \n",
        "                     'ARS': [ ARS_jun_jul17, ARS_jun_sep17, ARS_jun_nov17, ARS_jun17_jan18,\n",
        "                             ARS_jun17_mar18, ARS_jun17_may18, ARS_jun17_aug18]})"
      ],
      "execution_count": 342,
      "outputs": []
    },
    {
      "cell_type": "code",
      "metadata": {
        "colab": {
          "base_uri": "https://localhost:8080/",
          "height": 381
        },
        "id": "nOFSQF7FJylB",
        "outputId": "f4602616-76d7-41f3-b2cc-9cc4b6a99131"
      },
      "source": [
        "sns.set(font_scale=1.2)\n",
        "plt.figure(figsize=(10, 5))\n",
        "plt.plot(sil5['Period'], sil5['ARS'], c='red')\n",
        "\n",
        "plt.xlabel('Period')\n",
        "plt.ylabel('Adjusted Rand Score')\n",
        "plt.title('Temporal Staibility', color='green')"
      ],
      "execution_count": 343,
      "outputs": [
        {
          "output_type": "execute_result",
          "data": {
            "text/plain": [
              "Text(0.5, 1.0, 'Temporal Staibility')"
            ]
          },
          "metadata": {},
          "execution_count": 343
        },
        {
          "output_type": "display_data",
          "data": {
            "image/png": "[encoded data removed]",
            "text/plain": [
              "<Figure size 720x360 with 1 Axes>"
            ]
          },
          "metadata": {}
        }
      ]
    },
    {
      "cell_type": "code",
      "metadata": {
        "id": "y2Sqrq-1KK_A"
      },
      "source": [
        ""
      ],
      "execution_count": null,
      "outputs": []
    },
    {
      "cell_type": "code",
      "metadata": {
        "id": "oXozrUAdhjbb"
      },
      "source": [
        "i=dataEtude['year']==2017\n",
        "data2017=dataEtude[i]"
      ],
      "execution_count": 295,
      "outputs": []
    },
    {
      "cell_type": "code",
      "metadata": {
        "id": "DPNBo7EOhjd5"
      },
      "source": [
        "i=dataEtude['Month_year']=='January-2018'\n",
        "J2018=dataEtude[i]"
      ],
      "execution_count": 296,
      "outputs": []
    },
    {
      "cell_type": "code",
      "metadata": {
        "id": "o2BytmZOhjgh"
      },
      "source": [
        "data2017J=pd.merge(J2018,data2017,how='outer')"
      ],
      "execution_count": 297,
      "outputs": []
    },
    {
      "cell_type": "code",
      "metadata": {
        "id": "vUzyAAJthjjK",
        "outputId": "1efa517f-a7ef-4342-9a32-76565d301e1a",
        "colab": {
          "base_uri": "https://localhost:8080/",
          "height": 387
        }
      },
      "source": [
        "from sklearn.preprocessing import StandardScaler\n",
        "features = ['Recency', 'Frequency', 'Monetary']\n",
        "index = data2017J.columns.isin(features)\n",
        "dataModel2017J = data2017J[data2017J.columns[index]]\n",
        "# Standarisation\n",
        "X2017J = dataModel2017J.values\n",
        "X_scaled2017J = StandardScaler().fit_transform(X2017J)\n",
        "Janvier2018 = cluster.KMeans(n_clusters=6)\n",
        "Janvier2018.fit(X_scaled2017J)\n",
        "silhjanvier = metrics.silhouette_score(X_scaled2017J, Janvier2018.labels_)"
      ],
      "execution_count": 299,
      "outputs": [
        {
          "output_type": "error",
          "ename": "ValueError",
          "evalue": "ignored",
          "traceback": [
            "\u001b[0;31m---------------------------------------------------------------------------\u001b[0m",
            "\u001b[0;31mValueError\u001b[0m                                Traceback (most recent call last)",
            "\u001b[0;32m<ipython-input-299-bf51edd54db0>\u001b[0m in \u001b[0;36m<module>\u001b[0;34m()\u001b[0m\n\u001b[1;32m      5\u001b[0m \u001b[0;31m# Standarisation\u001b[0m\u001b[0;34m\u001b[0m\u001b[0;34m\u001b[0m\u001b[0;34m\u001b[0m\u001b[0m\n\u001b[1;32m      6\u001b[0m \u001b[0mX2017J\u001b[0m \u001b[0;34m=\u001b[0m \u001b[0mdataModel2017J\u001b[0m\u001b[0;34m.\u001b[0m\u001b[0mvalues\u001b[0m\u001b[0;34m\u001b[0m\u001b[0;34m\u001b[0m\u001b[0m\n\u001b[0;32m----> 7\u001b[0;31m \u001b[0mX_scaled2017J\u001b[0m \u001b[0;34m=\u001b[0m \u001b[0mStandardScaler\u001b[0m\u001b[0;34m(\u001b[0m\u001b[0;34m)\u001b[0m\u001b[0;34m.\u001b[0m\u001b[0mfit_transform\u001b[0m\u001b[0;34m(\u001b[0m\u001b[0mX2017J\u001b[0m\u001b[0;34m)\u001b[0m\u001b[0;34m\u001b[0m\u001b[0;34m\u001b[0m\u001b[0m\n\u001b[0m\u001b[1;32m      8\u001b[0m \u001b[0mJanvier2018\u001b[0m \u001b[0;34m=\u001b[0m \u001b[0mcluster\u001b[0m\u001b[0;34m.\u001b[0m\u001b[0mKMeans\u001b[0m\u001b[0;34m(\u001b[0m\u001b[0mn_clusters\u001b[0m\u001b[0;34m=\u001b[0m\u001b[0;36m6\u001b[0m\u001b[0;34m)\u001b[0m\u001b[0;34m\u001b[0m\u001b[0;34m\u001b[0m\u001b[0m\n\u001b[1;32m      9\u001b[0m \u001b[0mJanvier2018\u001b[0m\u001b[0;34m.\u001b[0m\u001b[0mfit\u001b[0m\u001b[0;34m(\u001b[0m\u001b[0mX_scaled2017J\u001b[0m\u001b[0;34m)\u001b[0m\u001b[0;34m\u001b[0m\u001b[0;34m\u001b[0m\u001b[0m\n",
            "\u001b[0;32m/usr/local/lib/python3.7/dist-packages/sklearn/base.py\u001b[0m in \u001b[0;36mfit_transform\u001b[0;34m(self, X, y, **fit_params)\u001b[0m\n\u001b[1;32m    845\u001b[0m         \u001b[0;32mif\u001b[0m \u001b[0my\u001b[0m \u001b[0;32mis\u001b[0m \u001b[0;32mNone\u001b[0m\u001b[0;34m:\u001b[0m\u001b[0;34m\u001b[0m\u001b[0;34m\u001b[0m\u001b[0m\n\u001b[1;32m    846\u001b[0m             \u001b[0;31m# fit method of arity 1 (unsupervised transformation)\u001b[0m\u001b[0;34m\u001b[0m\u001b[0;34m\u001b[0m\u001b[0;34m\u001b[0m\u001b[0m\n\u001b[0;32m--> 847\u001b[0;31m             \u001b[0;32mreturn\u001b[0m \u001b[0mself\u001b[0m\u001b[0;34m.\u001b[0m\u001b[0mfit\u001b[0m\u001b[0;34m(\u001b[0m\u001b[0mX\u001b[0m\u001b[0;34m,\u001b[0m \u001b[0;34m**\u001b[0m\u001b[0mfit_params\u001b[0m\u001b[0;34m)\u001b[0m\u001b[0;34m.\u001b[0m\u001b[0mtransform\u001b[0m\u001b[0;34m(\u001b[0m\u001b[0mX\u001b[0m\u001b[0;34m)\u001b[0m\u001b[0;34m\u001b[0m\u001b[0;34m\u001b[0m\u001b[0m\n\u001b[0m\u001b[1;32m    848\u001b[0m         \u001b[0;32melse\u001b[0m\u001b[0;34m:\u001b[0m\u001b[0;34m\u001b[0m\u001b[0;34m\u001b[0m\u001b[0m\n\u001b[1;32m    849\u001b[0m             \u001b[0;31m# fit method of arity 2 (supervised transformation)\u001b[0m\u001b[0;34m\u001b[0m\u001b[0;34m\u001b[0m\u001b[0;34m\u001b[0m\u001b[0m\n",
            "\u001b[0;32m/usr/local/lib/python3.7/dist-packages/sklearn/preprocessing/_data.py\u001b[0m in \u001b[0;36mfit\u001b[0;34m(self, X, y, sample_weight)\u001b[0m\n\u001b[1;32m    804\u001b[0m         \u001b[0;31m# Reset internal state before fitting\u001b[0m\u001b[0;34m\u001b[0m\u001b[0;34m\u001b[0m\u001b[0;34m\u001b[0m\u001b[0m\n\u001b[1;32m    805\u001b[0m         \u001b[0mself\u001b[0m\u001b[0;34m.\u001b[0m\u001b[0m_reset\u001b[0m\u001b[0;34m(\u001b[0m\u001b[0;34m)\u001b[0m\u001b[0;34m\u001b[0m\u001b[0;34m\u001b[0m\u001b[0m\n\u001b[0;32m--> 806\u001b[0;31m         \u001b[0;32mreturn\u001b[0m \u001b[0mself\u001b[0m\u001b[0;34m.\u001b[0m\u001b[0mpartial_fit\u001b[0m\u001b[0;34m(\u001b[0m\u001b[0mX\u001b[0m\u001b[0;34m,\u001b[0m \u001b[0my\u001b[0m\u001b[0;34m,\u001b[0m \u001b[0msample_weight\u001b[0m\u001b[0;34m)\u001b[0m\u001b[0;34m\u001b[0m\u001b[0;34m\u001b[0m\u001b[0m\n\u001b[0m\u001b[1;32m    807\u001b[0m \u001b[0;34m\u001b[0m\u001b[0m\n\u001b[1;32m    808\u001b[0m     \u001b[0;32mdef\u001b[0m \u001b[0mpartial_fit\u001b[0m\u001b[0;34m(\u001b[0m\u001b[0mself\u001b[0m\u001b[0;34m,\u001b[0m \u001b[0mX\u001b[0m\u001b[0;34m,\u001b[0m \u001b[0my\u001b[0m\u001b[0;34m=\u001b[0m\u001b[0;32mNone\u001b[0m\u001b[0;34m,\u001b[0m \u001b[0msample_weight\u001b[0m\u001b[0;34m=\u001b[0m\u001b[0;32mNone\u001b[0m\u001b[0;34m)\u001b[0m\u001b[0;34m:\u001b[0m\u001b[0;34m\u001b[0m\u001b[0;34m\u001b[0m\u001b[0m\n",
            "\u001b[0;32m/usr/local/lib/python3.7/dist-packages/sklearn/preprocessing/_data.py\u001b[0m in \u001b[0;36mpartial_fit\u001b[0;34m(self, X, y, sample_weight)\u001b[0m\n\u001b[1;32m    845\u001b[0m             \u001b[0mdtype\u001b[0m\u001b[0;34m=\u001b[0m\u001b[0mFLOAT_DTYPES\u001b[0m\u001b[0;34m,\u001b[0m\u001b[0;34m\u001b[0m\u001b[0;34m\u001b[0m\u001b[0m\n\u001b[1;32m    846\u001b[0m             \u001b[0mforce_all_finite\u001b[0m\u001b[0;34m=\u001b[0m\u001b[0;34m\"allow-nan\"\u001b[0m\u001b[0;34m,\u001b[0m\u001b[0;34m\u001b[0m\u001b[0;34m\u001b[0m\u001b[0m\n\u001b[0;32m--> 847\u001b[0;31m             \u001b[0mreset\u001b[0m\u001b[0;34m=\u001b[0m\u001b[0mfirst_call\u001b[0m\u001b[0;34m,\u001b[0m\u001b[0;34m\u001b[0m\u001b[0;34m\u001b[0m\u001b[0m\n\u001b[0m\u001b[1;32m    848\u001b[0m         )\n\u001b[1;32m    849\u001b[0m         \u001b[0mn_features\u001b[0m \u001b[0;34m=\u001b[0m \u001b[0mX\u001b[0m\u001b[0;34m.\u001b[0m\u001b[0mshape\u001b[0m\u001b[0;34m[\u001b[0m\u001b[0;36m1\u001b[0m\u001b[0;34m]\u001b[0m\u001b[0;34m\u001b[0m\u001b[0;34m\u001b[0m\u001b[0m\n",
            "\u001b[0;32m/usr/local/lib/python3.7/dist-packages/sklearn/base.py\u001b[0m in \u001b[0;36m_validate_data\u001b[0;34m(self, X, y, reset, validate_separately, **check_params)\u001b[0m\n\u001b[1;32m    559\u001b[0m             \u001b[0;32mraise\u001b[0m \u001b[0mValueError\u001b[0m\u001b[0;34m(\u001b[0m\u001b[0;34m\"Validation should be done on X, y or both.\"\u001b[0m\u001b[0;34m)\u001b[0m\u001b[0;34m\u001b[0m\u001b[0;34m\u001b[0m\u001b[0m\n\u001b[1;32m    560\u001b[0m         \u001b[0;32melif\u001b[0m \u001b[0;32mnot\u001b[0m \u001b[0mno_val_X\u001b[0m \u001b[0;32mand\u001b[0m \u001b[0mno_val_y\u001b[0m\u001b[0;34m:\u001b[0m\u001b[0;34m\u001b[0m\u001b[0;34m\u001b[0m\u001b[0m\n\u001b[0;32m--> 561\u001b[0;31m             \u001b[0mX\u001b[0m \u001b[0;34m=\u001b[0m \u001b[0mcheck_array\u001b[0m\u001b[0;34m(\u001b[0m\u001b[0mX\u001b[0m\u001b[0;34m,\u001b[0m \u001b[0;34m**\u001b[0m\u001b[0mcheck_params\u001b[0m\u001b[0;34m)\u001b[0m\u001b[0;34m\u001b[0m\u001b[0;34m\u001b[0m\u001b[0m\n\u001b[0m\u001b[1;32m    562\u001b[0m             \u001b[0mout\u001b[0m \u001b[0;34m=\u001b[0m \u001b[0mX\u001b[0m\u001b[0;34m\u001b[0m\u001b[0;34m\u001b[0m\u001b[0m\n\u001b[1;32m    563\u001b[0m         \u001b[0;32melif\u001b[0m \u001b[0mno_val_X\u001b[0m \u001b[0;32mand\u001b[0m \u001b[0;32mnot\u001b[0m \u001b[0mno_val_y\u001b[0m\u001b[0;34m:\u001b[0m\u001b[0;34m\u001b[0m\u001b[0;34m\u001b[0m\u001b[0m\n",
            "\u001b[0;32m/usr/local/lib/python3.7/dist-packages/sklearn/utils/validation.py\u001b[0m in \u001b[0;36mcheck_array\u001b[0;34m(array, accept_sparse, accept_large_sparse, dtype, order, copy, force_all_finite, ensure_2d, allow_nd, ensure_min_samples, ensure_min_features, estimator)\u001b[0m\n\u001b[1;32m    807\u001b[0m                 \u001b[0;34m\"Found array with %d feature(s) (shape=%s) while\"\u001b[0m\u001b[0;34m\u001b[0m\u001b[0;34m\u001b[0m\u001b[0m\n\u001b[1;32m    808\u001b[0m                 \u001b[0;34m\" a minimum of %d is required%s.\"\u001b[0m\u001b[0;34m\u001b[0m\u001b[0;34m\u001b[0m\u001b[0m\n\u001b[0;32m--> 809\u001b[0;31m                 \u001b[0;34m%\u001b[0m \u001b[0;34m(\u001b[0m\u001b[0mn_features\u001b[0m\u001b[0;34m,\u001b[0m \u001b[0marray\u001b[0m\u001b[0;34m.\u001b[0m\u001b[0mshape\u001b[0m\u001b[0;34m,\u001b[0m \u001b[0mensure_min_features\u001b[0m\u001b[0;34m,\u001b[0m \u001b[0mcontext\u001b[0m\u001b[0;34m)\u001b[0m\u001b[0;34m\u001b[0m\u001b[0;34m\u001b[0m\u001b[0m\n\u001b[0m\u001b[1;32m    810\u001b[0m             )\n\u001b[1;32m    811\u001b[0m \u001b[0;34m\u001b[0m\u001b[0m\n",
            "\u001b[0;31mValueError\u001b[0m: Found array with 0 feature(s) (shape=(44200, 0)) while a minimum of 1 is required by StandardScaler."
          ]
        }
      ]
    },
    {
      "cell_type": "code",
      "metadata": {
        "id": "FfGKIJNXhjml"
      },
      "source": [
        ""
      ],
      "execution_count": null,
      "outputs": []
    }
  ]
}